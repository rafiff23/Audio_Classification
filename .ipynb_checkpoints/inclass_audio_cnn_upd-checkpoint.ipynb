{
 "cells": [
  {
   "cell_type": "markdown",
   "id": "dd3a759e",
   "metadata": {},
   "source": [
    "**Inclass: Convolutional Neural Network**\n",
    "\n",
    "<img src=\"assets/logo.png\" width=\"150\">\n",
    "<br>\n",
    "\n",
    "___"
   ]
  },
  {
   "cell_type": "code",
   "execution_count": 1,
   "id": "ff81c698",
   "metadata": {},
   "outputs": [],
   "source": [
    "# !pip install seaborn"
   ]
  },
  {
   "cell_type": "code",
   "execution_count": 2,
   "id": "de5ecf6e",
   "metadata": {},
   "outputs": [],
   "source": [
    "import random\n",
    "import json\n",
    "import numpy as np\n",
    "import pandas as pd\n",
    "import librosa, librosa.display\n",
    "import matplotlib.pyplot as plt\n",
    "import seaborn as sns\n",
    "\n",
    "from sklearn.model_selection import train_test_split\n",
    "import tensorflow as tf\n",
    "import tensorflow.keras as keras"
   ]
  },
  {
   "cell_type": "markdown",
   "id": "9e2b6edb",
   "metadata": {},
   "source": [
    "# Convolutional Neural Network\n",
    "\n",
    "Convolutional Neural Network (CNN) saat ini merupakan arsitektur yang umum digunakan untuk menangani **data gambar**. Tetapi seperti yang telah disampaikan sebelumnya, bentuk data yang kita miliki pada hasil pemrosesan data audio mirip dengan bentuk data gambar. Tentunya hal ini membuat metode CNN menjadi relevan untuk digunakan."
   ]
  },
  {
   "cell_type": "markdown",
   "id": "0af9e6ff",
   "metadata": {},
   "source": [
    "## Convolution Concepts\n",
    "\n",
    "Pada modul sebelumnya, kita telah belajar untuk mengklasifikasikan genre lagu ke dalam kelas-kelasnya. Tapi ada masalah:\n",
    "\n",
    "* Menggunakan dense layer, jumlah parameter yang akan dilatih sangat banyak.\n",
    "* Data yang digunakan biasanya tidak seluruhnya penting, bukan membuat model lebih baik melainkan training menjadi lebih lama\n",
    "\n",
    "Bagaimana jika kita dapat mengekstrak nilai yang relevan saja dan menghapus semua nilai yang tidak relevan? Dengan begitu jaringan kita akan memiliki fitur yang jauh lebih ringan namun dengan informasi yang relatif sama (atau bahkan lebih baik). Ini adalah saat konvolusi mengambil bagian. Silakan lihat arsitektur jaringan saraf convolutional di bawah ini:\n",
    "\n",
    "![](https://drive.google.com/uc?export=view&id=1B753UW04KdjePCDbTdGr3JeVu01Cmbs4)\n",
    "\n",
    "Berdasarkan ilustrasi, ada empat lapisan yang berbeda:\n",
    "\n",
    "1. **Convolutional layer** untuk mengekstrak fitur penting dari data sebelum dimasukkan ke dalam dense layer. Data yang berbelit-belit mungkin berukuran **lebih kecil** tetapi **lebih kaya** informasi, sehingga menghasilkan pekerjaan yang lebih efektif untuk dense layer.\n",
    "\n",
    "2. **Pooling layer** mengurangi ukuran data, hanya mempertahankan piksel yang relevan\n",
    "\n",
    "3. **Flattening layer** mengonversi data dengan dua dimensi menjadi satu dimensi\n",
    "\n",
    "4. **Fully-connected (dense) layer**, jaringan saraf dasar untuk klasifikasi"
   ]
  },
  {
   "cell_type": "markdown",
   "id": "c4879dd3",
   "metadata": {},
   "source": [
    "### 1. Convolutional Layer\n",
    "\n",
    "- Sebuah konvolusi akan **mengekstraksi informasi yang penting** dari data menggunakan **filter**. Filter ini berfungsi seperti filter apa pun di dunia nyata, ia memiliki penggunaan khusus dan memiliki kepekaan terhadap cara yang sangat spesifik. \n",
    "\n",
    "- Misalnya, pikirkan filter UV untuk lensa kamera. Ini akan memblokir sinar UV untuk mengurangi warna biru yang berlebihan dari langit. Semakin banyak sinar UV di lapangan, semakin aktif filter ini untuk memberi tahu Anda bahwa ada lampu UV.\n",
    "![](assets/convolution.gif)\n",
    "\n",
    "- Secara matematis, proses feedforward dari jaringan saraf convolutional disebut **\"cross correlation\"**. Istilah konvolusi berasal dari fungsi turunannya ketika jaringan melakukan backpropagation. Di bawah ini adalah ilustrasi dan rumus matematika tentang bagaimana jaringan melakukan feedforward\n",
    "$$ F \\circ I (x,y) = \\sum_{j=-N}^{N} \\sum_{i=-N}^{N} F(i,j) \\times I(x+i, y+j)$$\n",
    "\n",
    "![convolutional](assets/conv-hackernoon.gif)\n",
    "\n",
    "Penjelasan tentang Image Filtering bisa dilihat di [Google Slides](https://docs.google.com/presentation/d/10UidolXUlmxBesQVaQOEtrunddf7CwnG80wawiZtcxo/edit#slide=id.g115c109ac13_0_47)"
   ]
  },
  {
   "cell_type": "code",
   "execution_count": null,
   "id": "fc5d7010",
   "metadata": {},
   "outputs": [],
   "source": [
    "# Create a single layer of convolution based on the picture above\n",
    "    \n",
    "my_conv_layer = keras.layers.Conv2D(\n",
    "    input_shape=(5,5,1), # (height, width, deep) the deep is 1\n",
    "    filters=1, # jumlah filter/kernel yang digunakan\n",
    "    kernel_size=(3, 3), # ukuran dari filter\n",
    "    strides=1, # steps of convolution -> cth: (2, 1)\n",
    "    padding='same', # DENGAN padding, jadi ukuran output SAMA dengan ukuran input\n",
    "    activation='relu', # activation function\n",
    ")"
   ]
  },
  {
   "cell_type": "markdown",
   "id": "b869ab5a",
   "metadata": {},
   "source": [
    "Parameters ([Documentation of `Conv2D`](https://keras.io/api/layers/convolution_layers/convolution2d/)):\n",
    "\n",
    "- `input_shape`: \n",
    "    + dimensi input dalam format `(height, width, channel)` # pada data audio kita menggunakan channel 1\n",
    "- `filters`: \n",
    "    + berapa jumlah filter yang akan digunakan untuk menggulung (*convolve*) gambar\n",
    "    + Semakin banyak filter, semakin besar kemungkinan untuk mempelajari fitur yang lebih spesifik\n",
    "    + Jumlah ini setara dengan jumlah neuron dalam lapisan padat (`unit`)\n",
    "- `kernel_size`: \n",
    "    + ukuran untuk setiap filter\n",
    "    + Ukuran yang lebih besar akan menangkap lebih banyak informasi dan kemungkinan besar menggeneralisasi lebih baik daripada yang lebih kecil. \n",
    "    + Tetapi penelitian menunjukkan bahwa **ukuran kernel 3 dan 5** sangat kuat dalam hal kompleksitas algoritme. Tidak ada standar yang ketat dalam menentukan ukuran kernel.\n",
    "    + Praktik terbaik adalah **menggunakan nilai ganjil kecil**. \n",
    "- `strides`: \n",
    "    + Besar langkah dalam memindahkan filter selama proses konvolusi\n",
    "    + Langkah yang besar akan membuat langkah lebih besar dan membuat filter berpotensi melewatkan beberapa piksel yang berarti.\n",
    "- `padding`:\n",
    "    + ditambahkan jika kita ingin ukuran output sama dengan input dengan melakukan beberapa padding sesuai dengan ukuran filter.\n",
    "        - `'valid'`: tanpa padding atau ukuran output tidak sama dengan input\n",
    "        - `'same'`: menggunakan zero-padding pada batas gambar\n",
    "- `activation`: fungsi aktivasi yang akan digunakan setelah input digabungkan\n",
    "    \n",
    "Di bawah ini adalah ilustrasi untuk `padding='same'` pada input 6x6:\n",
    "\n",
    "![padding](assets/zero-padding.png)\n",
    "\n",
    "Mari kita coba lihat kalau diaplikasikan ke data audio kita."
   ]
  },
  {
   "cell_type": "code",
   "execution_count": 21,
   "id": "b6383948",
   "metadata": {},
   "outputs": [],
   "source": [
    "# Create a single layer of convolution based on our data\n",
    "    \n",
    "my_conv_layer = keras.layers.Conv2D(\n",
    "    input_shape=(13,1293,1), # (height, width, deep) the deep is 1\n",
    "    filters=10, # jumlah filter/kernel yang digunakan\n",
    "    kernel_size=(5, 5), # ukuran dari filter\n",
    "    strides=1, # steps of convolution -> cth: (2, 1)\n",
    "    padding='valid', # DENGAN padding, jadi ukuran output SAMA dengan ukuran input\n",
    "    activation='relu', # activation function\n",
    ")"
   ]
  },
  {
   "cell_type": "markdown",
   "id": "80bdfb8a",
   "metadata": {},
   "source": [
    "Yang mempengaruhi dimensi output data kita:\n",
    "- kernel_size\n",
    "- strides\n",
    "- padding\n",
    "\n",
    "Sementara filters berpengaruh terhadap jumlah output yang didapat"
   ]
  },
  {
   "cell_type": "code",
   "execution_count": 3,
   "id": "790d63c2",
   "metadata": {},
   "outputs": [],
   "source": [
    "# Load the data\n",
    "file_path = \"data_input/genres_train/blues/blues.00050.wav\"\n",
    "signal, sample_rate = librosa.load(file_path)\n",
    "\n",
    "# Make it as MFCC feature\n",
    "MFCCs = librosa.feature.mfcc(signal, sample_rate, n_fft=2048, hop_length=512, n_mfcc=13)"
   ]
  },
  {
   "cell_type": "code",
   "execution_count": 4,
   "id": "29a1a2f9",
   "metadata": {},
   "outputs": [
    {
     "data": {
      "text/plain": [
       "(13, 1293)"
      ]
     },
     "execution_count": 4,
     "metadata": {},
     "output_type": "execute_result"
    }
   ],
   "source": [
    "MFCCs.shape"
   ]
  },
  {
   "cell_type": "markdown",
   "id": "5e788c03",
   "metadata": {},
   "source": [
    "Coba visualisasikan menggunakan `librosa.display.specshow()`"
   ]
  },
  {
   "cell_type": "code",
   "execution_count": 6,
   "id": "a25ab333",
   "metadata": {},
   "outputs": [
    {
     "data": {
      "text/plain": [
       "<matplotlib.collections.QuadMesh at 0x20cfc5ab848>"
      ]
     },
     "execution_count": 6,
     "metadata": {},
     "output_type": "execute_result"
    },
    {
     "data": {
      "image/png": "[encoded data removed]",
      "text/plain": [
       "<Figure size 1008x432 with 1 Axes>"
      ]
     },
     "metadata": {
      "needs_background": "light"
     },
     "output_type": "display_data"
    }
   ],
   "source": [
    "# Visualize it\n",
    "plt.figure(figsize=(14,6))\n",
    "librosa.display.specshow(MFCCs, sr=sample_rate, hop_length=512, x_axis = 'time')"
   ]
  },
  {
   "cell_type": "markdown",
   "id": "f40413fe",
   "metadata": {},
   "source": [
    "Coba visualisasikan menggunakan `heatmap()` dari seaborn"
   ]
  },
  {
   "cell_type": "code",
   "execution_count": 7,
   "id": "4d1c9840",
   "metadata": {},
   "outputs": [
    {
     "data": {
      "text/plain": [
       "<matplotlib.axes._subplots.AxesSubplot at 0x20cfc636888>"
      ]
     },
     "execution_count": 7,
     "metadata": {},
     "output_type": "execute_result"
    },
    {
     "data": {
      "image/png": "[encoded data removed]",
      "text/plain": [
       "<Figure size 432x288 with 2 Axes>"
      ]
     },
     "metadata": {
      "needs_background": "light"
     },
     "output_type": "display_data"
    }
   ],
   "source": [
    "# Visualize it with seaborn\n",
    "sns.heatmap(MFCCs, cmap='gray')"
   ]
  },
  {
   "cell_type": "markdown",
   "id": "ebb5b6f9",
   "metadata": {},
   "source": [
    "Agar bisa dimasukkan ke convolutional layer, kita akan ubah bentuknya/dimensinya dan dijadikan tipe float.\n",
    "Mari kita ambil data MFCC tersebut, bentuk ulang, dan ubah menjadi float.\n",
    "\n",
    "Pastikan bentuk input dalam konvensi berikut:\n",
    "`(TOTAL_OBS, HEIGHT, WIDTH, CHANNEL)` \n",
    "\n",
    "pada kasus data blues.00050.wav menjadi: `(1, HEIGHT, WIDTH, 1)`\n",
    "\n",
    "Kedua nilai 1 di atas diperlukan sebagai bentuk yang diterima oleh `Conv2D`"
   ]
  },
  {
   "cell_type": "code",
   "execution_count": 8,
   "id": "85d1a766",
   "metadata": {},
   "outputs": [
    {
     "data": {
      "text/plain": [
       "(13, 1293)"
      ]
     },
     "execution_count": 8,
     "metadata": {},
     "output_type": "execute_result"
    }
   ],
   "source": [
    "MFCCs.shape"
   ]
  },
  {
   "cell_type": "code",
   "execution_count": 22,
   "id": "a1a10e63",
   "metadata": {},
   "outputs": [
    {
     "name": "stdout",
     "output_type": "stream",
     "text": [
      "(1, 13, 1293, 1)\n",
      "(1, 9, 1289, 10)\n"
     ]
    }
   ],
   "source": [
    "# reshape dimension\n",
    "input_mfcc = MFCCs.reshape(1, MFCCs.shape[0], MFCCs.shape[1], 1).astype('float')\n",
    "print(input_mfcc.shape)\n",
    "\n",
    "# apply convolutional layer\n",
    "output_conv = my_conv_layer(input_mfcc)\n",
    "print(output_conv.shape)"
   ]
  },
  {
   "cell_type": "code",
   "execution_count": 16,
   "id": "652f5fba",
   "metadata": {},
   "outputs": [
    {
     "data": {
      "text/plain": [
       "<matplotlib.axes._subplots.AxesSubplot at 0x20cffd8d408>"
      ]
     },
     "execution_count": 16,
     "metadata": {},
     "output_type": "execute_result"
    },
    {
     "data": {
      "image/png": "[encoded data removed]",
      "text/plain": [
       "<Figure size 432x288 with 2 Axes>"
      ]
     },
     "metadata": {
      "needs_background": "light"
     },
     "output_type": "display_data"
    }
   ],
   "source": [
    "# check the result of convolutional output\n",
    "first_filter_output = output_conv[0, :, :, 9]\n",
    "sns.heatmap(first_filter_output, cmap='gray')"
   ]
  },
  {
   "cell_type": "markdown",
   "id": "69edb6aa",
   "metadata": {},
   "source": [
    "### 2. Pooling Layer\n",
    "\n",
    "Ide dari pooling adalah untuk **meringkas dan menyederhanakan** fitur yang convolved dengan melakukan agregasi pada fitur yang convolved. Ingat bahwa kami ingin dense layer diberi dengan fitur kecil namun bermakna. \n",
    "\n",
    "Di bawah ini adalah contoh dari Max Pooling di mana fitur berbelit-belit diringkas menjadi data 2x2.\n",
    "\n",
    "![](assets/maxpool_animation.gif)"
   ]
  },
  {
   "cell_type": "code",
   "execution_count": 34,
   "id": "e73ee912",
   "metadata": {},
   "outputs": [],
   "source": [
    "# Create a single layer of pooling\n",
    "\n",
    "my_pool_layer = keras.layers.MaxPooling2D(\n",
    "    pool_size=(2, 2), # size of pooling\n",
    "    strides=4, # steps of pooling\n",
    "    padding='valid' # WITHOUT padding\n",
    ")"
   ]
  },
  {
   "cell_type": "markdown",
   "id": "a3fefdd2",
   "metadata": {},
   "source": [
    "Parameters ([Documentation of `MaxPooling2D`](https://keras.io/api/layers/pooling_layers/max_pooling2d/):\n",
    "\n",
    "- `pool_size` ekuivalen dengan `kernel_size` pada `Conv2D` yang akan menentukan seberapa besar pool Anda\n",
    "- `strides` dan `padding` sama seperti pada `Conv2D`\n",
    "\n",
    "> Selain MaxPooling, ada beberapa fungsi bawaan untuk membantu Anda mengurangi fitur tersebut. Mengunjungi [Documentation on Pooling Layers](https://keras.io/api/layers/pooling_layers/)"
   ]
  },
  {
   "cell_type": "markdown",
   "id": "ea8f856a",
   "metadata": {},
   "source": [
    "#### 🔎 Knowledge Check: Pooling Output\n",
    "\n",
    "Untuk melihat cara kerja pooling layer, kita dapat memasukkan input acak ke dalamnya. Gunakan bentuk array dari `output_conv`."
   ]
  },
  {
   "cell_type": "code",
   "execution_count": 24,
   "id": "e8fe0eb6",
   "metadata": {
    "scrolled": true
   },
   "outputs": [
    {
     "data": {
      "text/plain": [
       "TensorShape([1, 9, 1289, 10])"
      ]
     },
     "execution_count": 24,
     "metadata": {},
     "output_type": "execute_result"
    }
   ],
   "source": [
    "output_conv.shape"
   ]
  },
  {
   "cell_type": "code",
   "execution_count": 35,
   "id": "63c48a84",
   "metadata": {},
   "outputs": [
    {
     "name": "stdout",
     "output_type": "stream",
     "text": [
      "INPUT POOLING SHAPE: (1, 9, 1289, 10)\n",
      "OUTPUT POOLING SHAPE: (1, 2, 322, 10)\n"
     ]
    }
   ],
   "source": [
    "# input for pooling layer (generate random values)\n",
    "input_pooling = tf.random.normal([1, 9, 1289, 10]) # try to change the shape here\n",
    "print(\"INPUT POOLING SHAPE:\", input_pooling.shape)\n",
    "\n",
    "# output for pooling layer\n",
    "output_pooling = my_pool_layer(input_pooling)\n",
    "print(\"OUTPUT POOLING SHAPE:\", output_pooling.shape)"
   ]
  },
  {
   "cell_type": "markdown",
   "id": "e96cc1ae",
   "metadata": {},
   "source": [
    "❓Cobalah bereksperimen pada nilai-nilai berikut dengan membuat beberapa perubahan padanya.\n",
    "\n",
    "1. Jika kita mengubah bentuk variabel `input_pooling`, maka merubah dimensi data keseluruhan\n",
    "\n",
    "2. Jika parameter `pool_size` diperbesar, maka merubah dimensi output tapi tergantung dimensi input awal\n",
    "\n",
    "3. Jika parameter `strides` dinaikkan, maka merubah dimensi output"
   ]
  },
  {
   "cell_type": "markdown",
   "id": "22b7ff76",
   "metadata": {},
   "source": [
    "Ketika kita menggunakan model Neural Network biasa, maka seluruh data dimasukkan ke dalam model. Padahal informasi tersebut tidak seluruhnya penting. Berdasarkan konsep inilah lahir penyederhanaan menggunakan teknik konvolusi dan pooling oleh metode CNN."
   ]
  },
  {
   "cell_type": "markdown",
   "id": "8d94de3a",
   "metadata": {},
   "source": [
    "## Implement CNN in Keras\n",
    "\n",
    "### Load Audio Data"
   ]
  },
  {
   "cell_type": "code",
   "execution_count": 36,
   "id": "491a874d",
   "metadata": {},
   "outputs": [],
   "source": [
    "def load_data(data_path):\n",
    "    \"\"\"Loads training dataset from json file.\n",
    "        :param data_path (str): Path to json file containing data\n",
    "        :return X (ndarray): Inputs\n",
    "        :return y (ndarray): Targets\n",
    "    \"\"\"\n",
    "\n",
    "    with open(data_path, \"r\") as fp:\n",
    "        data = json.load(fp)\n",
    "\n",
    "    # convert lists to numpy arrays\n",
    "    X = np.array(data[\"mfcc\"])\n",
    "    y = np.array(data[\"labels\"])\n",
    "\n",
    "    print(\"Data succesfully loaded!\")\n",
    "\n",
    "    return  X, y"
   ]
  },
  {
   "cell_type": "code",
   "execution_count": 38,
   "id": "b82d40f0",
   "metadata": {},
   "outputs": [
    {
     "name": "stdout",
     "output_type": "stream",
     "text": [
      "Data succesfully loaded!\n",
      "data type \t:  <class 'numpy.ndarray'> <class 'numpy.ndarray'>\n",
      "training size \t:  (999, 130, 13) (999,)\n",
      "Test size \t:  (250, 130, 13) (250,)\n"
     ]
    }
   ],
   "source": [
    "# load data\n",
    "X, y = load_data(\"data_input/data.json\")\n",
    "\n",
    "# create train/test split\n",
    "X_train, X_test, y_train, y_test = train_test_split(X, y, test_size=0.2)\n",
    "\n",
    "# Check type and shape\n",
    "print('data type \\t: ', type(X_train), type(y_train))\n",
    "print('training size \\t: ', X_train.shape, y_train.shape)\n",
    "print('Test size \\t: ', X_test.shape, y_test.shape)\n"
   ]
  },
  {
   "cell_type": "markdown",
   "id": "3b70d0be",
   "metadata": {},
   "source": [
    "### Creating Model Architecture\n",
    "\n",
    "Tidak seperti data gambar, pada pengolahan data suara augmentasi dan preprocessing dilakukan secara manual ketika mengkonversi data. Proses yang dilakukan setelah pemisahan data tentu membuat arsitektur CNN."
   ]
  },
  {
   "cell_type": "code",
   "execution_count": 39,
   "id": "ec686c7d",
   "metadata": {},
   "outputs": [
    {
     "name": "stdout",
     "output_type": "stream",
     "text": [
      "Model: \"sequential\"\n",
      "_________________________________________________________________\n",
      " Layer (type)                Output Shape              Param #   \n",
      "=================================================================\n",
      " conv2d_5 (Conv2D)           (None, 128, 11, 32)       320       \n",
      "                                                                 \n",
      " max_pooling2d_5 (MaxPooling  (None, 64, 6, 32)        0         \n",
      " 2D)                                                             \n",
      "                                                                 \n",
      " conv2d_6 (Conv2D)           (None, 62, 4, 32)         9248      \n",
      "                                                                 \n",
      " max_pooling2d_6 (MaxPooling  (None, 31, 2, 32)        0         \n",
      " 2D)                                                             \n",
      "                                                                 \n",
      " flatten (Flatten)           (None, 1984)              0         \n",
      "                                                                 \n",
      " dense (Dense)               (None, 64)                127040    \n",
      "                                                                 \n",
      " dropout (Dropout)           (None, 64)                0         \n",
      "                                                                 \n",
      " dense_1 (Dense)             (None, 5)                 325       \n",
      "                                                                 \n",
      "=================================================================\n",
      "Total params: 136,933\n",
      "Trainable params: 136,933\n",
      "Non-trainable params: 0\n",
      "_________________________________________________________________\n"
     ]
    }
   ],
   "source": [
    "random.seed(722)\n",
    "np.random.seed(722)\n",
    "tf.random.set_seed(722)\n",
    "\n",
    "# model initiation\n",
    "model_cnn_genres = keras.Sequential()\n",
    "\n",
    "# input layer\n",
    "model_cnn_genres.add(keras.layers.InputLayer(input_shape=(X.shape[1], X.shape[2], 1)))\n",
    "\n",
    "# 1st conv layer\n",
    "model_cnn_genres.add(keras.layers.Conv2D(filters=32, kernel_size=(3, 3), activation='relu'))\n",
    "model_cnn_genres.add(keras.layers.MaxPooling2D(pool_size=(3, 3), strides=2, padding='same'))\n",
    "\n",
    "# 2nd conv layer\n",
    "model_cnn_genres.add(keras.layers.Conv2D(filters=32, kernel_size=(3, 3), activation='relu'))\n",
    "model_cnn_genres.add(keras.layers.MaxPooling2D(pool_size=(3, 3), strides=2, padding='same'))\n",
    "\n",
    "# flatten output and feed it into dense layer\n",
    "model_cnn_genres.add(keras.layers.Flatten())\n",
    "model_cnn_genres.add(keras.layers.Dense(units=64, activation='relu'))\n",
    "model_cnn_genres.add(keras.layers.Dropout(0.3))\n",
    "\n",
    "# output layer\n",
    "model_cnn_genres.add(keras.layers.Dense(units=5, activation='softmax'))\n",
    "\n",
    "# compile model\n",
    "optim = keras.optimizers.Adam(learning_rate=0.0001)\n",
    "model_cnn_genres.compile(optimizer=optim,\n",
    "                        loss='sparse_categorical_crossentropy',\n",
    "                        metrics=['accuracy'])\n",
    "\n",
    "model_cnn_genres.summary()"
   ]
  },
  {
   "cell_type": "markdown",
   "id": "8b4eb5c5",
   "metadata": {},
   "source": [
    "### Training Model\n",
    "\n",
    "Setelah arsitektur CNN berhasil dibentuk, kita masuk ke proses training."
   ]
  },
  {
   "cell_type": "code",
   "execution_count": 40,
   "id": "f33d787e",
   "metadata": {
    "ExecuteTime": {
     "end_time": "2022-02-21T06:39:56.129176Z",
     "start_time": "2022-02-21T06:39:00.839539Z"
    },
    "id": "f33d787e",
    "outputId": "f3d4ab27-71c1-4c30-a7a0-d0adf2f7259b",
    "scrolled": true
   },
   "outputs": [
    {
     "name": "stdout",
     "output_type": "stream",
     "text": [
      "Epoch 1/10\n",
      "32/32 [==============================] - 2s 35ms/step - loss: 7.6493 - accuracy: 0.2973 - val_loss: 1.7531 - val_accuracy: 0.5200\n",
      "Epoch 2/10\n",
      "32/32 [==============================] - 1s 30ms/step - loss: 2.0051 - accuracy: 0.4665 - val_loss: 0.9791 - val_accuracy: 0.6560\n",
      "Epoch 3/10\n",
      "32/32 [==============================] - 1s 29ms/step - loss: 1.1515 - accuracy: 0.5736 - val_loss: 0.9298 - val_accuracy: 0.6640\n",
      "Epoch 4/10\n",
      "32/32 [==============================] - 1s 28ms/step - loss: 1.0334 - accuracy: 0.5906 - val_loss: 0.8706 - val_accuracy: 0.6560\n",
      "Epoch 5/10\n",
      "32/32 [==============================] - 1s 30ms/step - loss: 0.9880 - accuracy: 0.6106 - val_loss: 0.8316 - val_accuracy: 0.6880\n",
      "Epoch 6/10\n",
      "32/32 [==============================] - 1s 29ms/step - loss: 0.9156 - accuracy: 0.6326 - val_loss: 0.7618 - val_accuracy: 0.7200\n",
      "Epoch 7/10\n",
      "32/32 [==============================] - 1s 33ms/step - loss: 0.9150 - accuracy: 0.6226 - val_loss: 0.7086 - val_accuracy: 0.7560\n",
      "Epoch 8/10\n",
      "32/32 [==============================] - 1s 29ms/step - loss: 0.8553 - accuracy: 0.6507 - val_loss: 0.6852 - val_accuracy: 0.7600\n",
      "Epoch 9/10\n",
      "32/32 [==============================] - 1s 32ms/step - loss: 0.7953 - accuracy: 0.7017 - val_loss: 0.6368 - val_accuracy: 0.7760\n",
      "Epoch 10/10\n",
      "32/32 [==============================] - 1s 33ms/step - loss: 0.7609 - accuracy: 0.6997 - val_loss: 0.6234 - val_accuracy: 0.7920\n"
     ]
    }
   ],
   "source": [
    "# train model\n",
    "model_history = model_cnn_genres.fit(X_train, y_train, \n",
    "                    validation_data=(X_test, y_test), \n",
    "                    batch_size=32, \n",
    "                    epochs=10,\n",
    "                    verbose = 1)"
   ]
  },
  {
   "cell_type": "markdown",
   "id": "cdc698ce",
   "metadata": {},
   "source": [
    "### Model Evaluation\n",
    "\n",
    "Kita akan menggunakan data yang sama dengan data evaluasi model NN."
   ]
  },
  {
   "cell_type": "code",
   "execution_count": 41,
   "id": "976680dd",
   "metadata": {},
   "outputs": [
    {
     "name": "stdout",
     "output_type": "stream",
     "text": [
      "Data succesfully loaded!\n",
      "8/8 [==============================] - 0s 7ms/step - loss: 2.0450 - accuracy: 0.2760\n"
     ]
    },
    {
     "data": {
      "text/plain": [
       "[2.0449936389923096, 0.2759999930858612]"
      ]
     },
     "execution_count": 41,
     "metadata": {},
     "output_type": "execute_result"
    }
   ],
   "source": [
    "# path to json file that stores MFCCs and genre labels for each processed segment\n",
    "# data_predict_path = \"data_input/data_test.json\"\n",
    "data_predict_path = \"data_test.json\"\n",
    "\n",
    "# load data\n",
    "X_pred, y_pred = load_data(data_predict_path)\n",
    "\n",
    "model_cnn_genres.evaluate(X_pred, y_pred, batch_size=32)"
   ]
  },
  {
   "cell_type": "markdown",
   "id": "2972252a",
   "metadata": {},
   "source": [
    "Kita juga akan membandingkan dengan perhitungan akurasi manual."
   ]
  },
  {
   "cell_type": "code",
   "execution_count": 42,
   "id": "aaeee165",
   "metadata": {},
   "outputs": [
    {
     "name": "stdout",
     "output_type": "stream",
     "text": [
      "8/8 [==============================] - 0s 8ms/step\n",
      "manual accuracy calculation:  0.276\n"
     ]
    }
   ],
   "source": [
    "# melakukan prediksi dari data di X_pred lalu mengambil nilai dengan peluang paling tinggi\n",
    "prediction = model_cnn_genres.predict(X_pred, batch_size=32, verbose=1)\n",
    "prediction = prediction.argmax(axis=1)\n",
    "\n",
    "# membuat dataframe untuk menyimpan data hasil prediksi dan data asli\n",
    "compare = pd.DataFrame({'prediction': prediction, \n",
    "                        'observation': y_pred})\n",
    "\n",
    "# membandingkan nilai dari kedua kolom\n",
    "compare['comparison'] = np.where(compare['prediction'] == compare['observation'], True, False)\n",
    "\n",
    "# mengeluarkan perhitungan akurasi dengan menghitung nilai True dari seluruh data\n",
    "manual_accuracy = compare['comparison'].value_counts()[1]/len(prediction)\n",
    "print(\"manual accuracy calculation: \", manual_accuracy)"
   ]
  },
  {
   "cell_type": "markdown",
   "id": "0084bdc6",
   "metadata": {},
   "source": [
    "Dan yang terakhir dengan bentuk yang sudah tidak disegmentasi"
   ]
  },
  {
   "cell_type": "code",
   "execution_count": 43,
   "id": "936d3211",
   "metadata": {},
   "outputs": [],
   "source": [
    "from collections import Counter\n",
    "\n",
    "def take_mode(result, num_segments=10):\n",
    "    \"\"\"Function to take mode value from num_segments of data\n",
    "        \n",
    "    --Arguments--\n",
    "        result: \n",
    "            Result from model prediction\n",
    "        num_segments:\n",
    "            The segments that we defined when we save and convert data with mfcc\n",
    "    \"\"\"\n",
    "    new_result = []\n",
    "    i = 0\n",
    "    \n",
    "    for i in range(int((len(result)+1)/num_segments)):\n",
    "        new_result.append(Counter(result[(i*num_segments):((i+1)*num_segments)].tolist()).most_common()[0][0])\n",
    "        i += 1\n",
    "        \n",
    "    return new_result"
   ]
  },
  {
   "cell_type": "code",
   "execution_count": 44,
   "id": "04604c8a",
   "metadata": {},
   "outputs": [
    {
     "data": {
      "text/plain": [
       "0.32"
      ]
     },
     "execution_count": 44,
     "metadata": {},
     "output_type": "execute_result"
    }
   ],
   "source": [
    "new_y = take_mode(y_pred)\n",
    "new_pred = take_mode(prediction)\n",
    "\n",
    "compare = pd.DataFrame({'prediction': new_pred, \n",
    "                        'observation': new_y})\n",
    "\n",
    "compare['comparison'] = np.where(compare['prediction'] == compare['observation'], True, False)\n",
    "\n",
    "manual_accuracy = compare['comparison'].value_counts()[1]/len(new_pred)\n",
    "manual_accuracy"
   ]
  },
  {
   "cell_type": "markdown",
   "id": "e7e12b5d",
   "metadata": {},
   "source": [
    "### Save Model"
   ]
  },
  {
   "cell_type": "code",
   "execution_count": null,
   "id": "952a9c64",
   "metadata": {},
   "outputs": [],
   "source": [
    "# model_cnn_genres.save('model/cnn_model.h5')"
   ]
  },
  {
   "cell_type": "markdown",
   "id": "d88623f0",
   "metadata": {},
   "source": [
    "## Dive Deeper\n",
    "\n",
    "Cobalah buat model dengan arsitektur Convolutional Neural Network yang berbeda, lalu coba juga melakukan hyperparameter tuning pada model yang dibuat. Apakah didapatkan hasil yang lebih baik?"
   ]
  },
  {
   "cell_type": "code",
   "execution_count": null,
   "id": "e2106e7b",
   "metadata": {},
   "outputs": [],
   "source": []
  },
  {
   "cell_type": "markdown",
   "id": "f3e87349",
   "metadata": {},
   "source": [
    "## Outline Bahasan DSS Juli\n",
    "\n",
    "- Konsep dasar neural network - deep learning\n",
    "- Ekstraksi/Konversi bentuk data audio -> diubah menjadi bentuk koefisien MFCC (ciri/karakteristik data suara dalam bentuk angka) \n",
    "- Mengimplementasikan deep learning ke data audio yang sudah dikonversi\n",
    "- Konsep Convolutional Neural Network\n",
    "- Implementasi CNN ke data audio"
   ]
  }
 ],
 "metadata": {
  "kernelspec": {
   "display_name": "dss_audio",
   "language": "python",
   "name": "dss_audio"
  },
  "language_info": {
   "codemirror_mode": {
    "name": "ipython",
    "version": 3
   },
   "file_extension": ".py",
   "mimetype": "text/x-python",
   "name": "python",
   "nbconvert_exporter": "python",
   "pygments_lexer": "ipython3",
   "version": "3.7.13"
  },
  "toc": {
   "base_numbering": 1,
   "nav_menu": {},
   "number_sections": true,
   "sideBar": true,
   "skip_h1_title": false,
   "title_cell": "Table of Contents",
   "title_sidebar": "Contents",
   "toc_cell": false,
   "toc_position": {},
   "toc_section_display": true,
   "toc_window_display": true
  },
  "varInspector": {
   "cols": {
    "lenName": 16,
    "lenType": 16,
    "lenVar": 40
   },
   "kernels_config": {
    "python": {
     "delete_cmd_postfix": "",
     "delete_cmd_prefix": "del ",
     "library": "var_list.py",
     "varRefreshCmd": "print(var_dic_list())"
    },
    "r": {
     "delete_cmd_postfix": ") ",
     "delete_cmd_prefix": "rm(",
     "library": "var_list.r",
     "varRefreshCmd": "cat(var_dic_list()) "
    }
   },
   "types_to_exclude": [
    "module",
    "function",
    "builtin_function_or_method",
    "instance",
    "_Feature"
   ],
   "window_display": false
  }
 },
 "nbformat": 4,
 "nbformat_minor": 5
}
